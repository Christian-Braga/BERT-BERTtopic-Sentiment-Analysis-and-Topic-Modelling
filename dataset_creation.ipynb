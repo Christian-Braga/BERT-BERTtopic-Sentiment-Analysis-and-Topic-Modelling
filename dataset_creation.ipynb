{
 "cells": [
  {
   "cell_type": "markdown",
   "metadata": {},
   "source": [
    "# DATASET FOR FINE-TUNING "
   ]
  },
  {
   "cell_type": "markdown",
   "metadata": {},
   "source": [
    "To create the dataset for fine tuning i used the YouTube Data API to fetch comments from specific videos.\n",
    "\n",
    "1. **API Initialization**: Import required libraries and establish a connection to the YouTube API using a developer key.\n",
    "\n",
    "2. **Comment Retrieval Function**:\n",
    "   - Define `get_video_comments` to fetch comments for a given `video_id`.\n",
    "   - Retrieve top-level comments and paginate through all available comments, capturing data such as the comment text, like count, reply count, and publication date.\n",
    "\n",
    "3. **Data Handling**:\n",
    "   - For each video ID, retrieve comments and store them in separate pandas DataFrames for individual analysis."
   ]
  },
  {
   "cell_type": "code",
   "execution_count": 1,
   "metadata": {},
   "outputs": [],
   "source": [
    "from googleapiclient.discovery import build\n",
    "import pandas as pd\n",
    "\n",
    "# Set up API key and YouTube API service\n",
    "API_KEY = \"YOUR_API\"  # put your api key here to run\n",
    "youtube = build(\"youtube\", \"v3\", developerKey=API_KEY)\n",
    "\n",
    "\n",
    "# Function to fetch comments from a video\n",
    "def get_video_comments(video_id, max_results=50):\n",
    "    comments = []\n",
    "    request = youtube.commentThreads().list(\n",
    "        part=\"snippet\", videoId=video_id, maxResults=max_results, textFormat=\"plainText\"\n",
    "    )\n",
    "\n",
    "    while request:\n",
    "        response = request.execute()\n",
    "        for item in response[\"items\"]:\n",
    "            comment_snippet = item[\"snippet\"][\"topLevelComment\"][\"snippet\"]\n",
    "            comment_data = {\n",
    "                \"text\": comment_snippet[\"textDisplay\"],\n",
    "                \"likes\": comment_snippet.get(\"likeCount\", 0),\n",
    "                \"replies\": item[\"snippet\"].get(\"totalReplyCount\", 0),\n",
    "                \"date\": comment_snippet[\"publishedAt\"],\n",
    "            }\n",
    "            comments.append(comment_data)\n",
    "\n",
    "        # Check if there's a next page of comments\n",
    "        request = youtube.commentThreads().list_next(request, response)\n",
    "\n",
    "    return comments\n",
    "\n",
    "\n",
    "# list of video IDs:\n",
    "# 1. \"October 7 | Al Jazeera Investigations\", '_0atzea-mPY'\n",
    "# 2. \"Hamas militant's bodycam shows how attacks on Israel began\", 'nDn10nDnk_k'\n",
    "# 3. \"Investigating war crimes in Gaza I Al Jazeera Investigations\", 'kPE6vbKix6A'\n",
    "# 4. \"‘People in Gaza feel abandoned by the world’: 40,000 Palestinians killed as ceasefire talks resume\", 'Da_Ll7P5kYU'\n",
    "# 5. \"Gaza towers collapse after explosion\", 'c5tWYj_Y60w'\n",
    "# 6. \"Israel-Gaza: At least half of Gaza's buildings damaged or destroyed, new analysis shows | BBC News\", 'cONhigj9Po4'\n",
    "\n",
    "videos = [\n",
    "    \"_0atzea-mPY\",\n",
    "    \"nDn10nDnk_k\",\n",
    "    \"kPE6vbKix6A\",\n",
    "    \"Da_Ll7P5kYU\",\n",
    "    \"c5tWYj_Y60w\",\n",
    "    \"cONhigj9Po4\",\n",
    "]\n",
    "\n",
    "# Create separate DataFrames for each video\n",
    "df_video_1 = pd.DataFrame(get_video_comments(videos[0]))\n",
    "df_video_2 = pd.DataFrame(get_video_comments(videos[1]))\n",
    "df_video_3 = pd.DataFrame(get_video_comments(videos[2]))\n",
    "df_video_4 = pd.DataFrame(get_video_comments(videos[3]))\n",
    "df_video_5 = pd.DataFrame(get_video_comments(videos[4]))\n",
    "df_video_6 = pd.DataFrame(get_video_comments(videos[5]))\n"
   ]
  },
  {
   "cell_type": "markdown",
   "metadata": {},
   "source": [
    "I concatenated all the comments in one single dataset"
   ]
  },
  {
   "cell_type": "code",
   "execution_count": 2,
   "metadata": {},
   "outputs": [
    {
     "data": {
      "text/html": [
       "<div>\n",
       "<style scoped>\n",
       "    .dataframe tbody tr th:only-of-type {\n",
       "        vertical-align: middle;\n",
       "    }\n",
       "\n",
       "    .dataframe tbody tr th {\n",
       "        vertical-align: top;\n",
       "    }\n",
       "\n",
       "    .dataframe thead th {\n",
       "        text-align: right;\n",
       "    }\n",
       "</style>\n",
       "<table border=\"1\" class=\"dataframe\">\n",
       "  <thead>\n",
       "    <tr style=\"text-align: right;\">\n",
       "      <th></th>\n",
       "      <th>text</th>\n",
       "      <th>likes</th>\n",
       "      <th>replies</th>\n",
       "      <th>date</th>\n",
       "    </tr>\n",
       "  </thead>\n",
       "  <tbody>\n",
       "    <tr>\n",
       "      <th>0</th>\n",
       "      <td>HAMAS got turned into HUMmus 😂😂😂😂</td>\n",
       "      <td>0</td>\n",
       "      <td>0</td>\n",
       "      <td>2025-03-01T03:42:43Z</td>\n",
       "    </tr>\n",
       "    <tr>\n",
       "      <th>1</th>\n",
       "      <td>Very biased what can you expect from islamic t...</td>\n",
       "      <td>0</td>\n",
       "      <td>0</td>\n",
       "      <td>2025-03-01T01:27:00Z</td>\n",
       "    </tr>\n",
       "    <tr>\n",
       "      <th>2</th>\n",
       "      <td>a simple word imbarrassing</td>\n",
       "      <td>0</td>\n",
       "      <td>0</td>\n",
       "      <td>2025-02-28T09:43:00Z</td>\n",
       "    </tr>\n",
       "    <tr>\n",
       "      <th>3</th>\n",
       "      <td>Go live and live in these ternnols</td>\n",
       "      <td>0</td>\n",
       "      <td>0</td>\n",
       "      <td>2025-02-27T23:33:36Z</td>\n",
       "    </tr>\n",
       "    <tr>\n",
       "      <th>4</th>\n",
       "      <td>When they debate if it’s a baby or 18 year old...</td>\n",
       "      <td>2</td>\n",
       "      <td>0</td>\n",
       "      <td>2025-02-27T10:05:15Z</td>\n",
       "    </tr>\n",
       "  </tbody>\n",
       "</table>\n",
       "</div>"
      ],
      "text/plain": [
       "                                                text  likes  replies  \\\n",
       "0                  HAMAS got turned into HUMmus 😂😂😂😂      0        0   \n",
       "1  Very biased what can you expect from islamic t...      0        0   \n",
       "2                         a simple word imbarrassing      0        0   \n",
       "3                 Go live and live in these ternnols      0        0   \n",
       "4  When they debate if it’s a baby or 18 year old...      2        0   \n",
       "\n",
       "                   date  \n",
       "0  2025-03-01T03:42:43Z  \n",
       "1  2025-03-01T01:27:00Z  \n",
       "2  2025-02-28T09:43:00Z  \n",
       "3  2025-02-27T23:33:36Z  \n",
       "4  2025-02-27T10:05:15Z  "
      ]
     },
     "execution_count": 2,
     "metadata": {},
     "output_type": "execute_result"
    }
   ],
   "source": [
    "all_videos_df = pd.concat(\n",
    "    [df_video_1, df_video_2, df_video_3, df_video_4, df_video_5, df_video_6],\n",
    "    ignore_index=True,\n",
    ")\n",
    "all_videos_df.head()"
   ]
  },
  {
   "cell_type": "code",
   "execution_count": 3,
   "metadata": {},
   "outputs": [
    {
     "data": {
      "text/plain": [
       "(24479, 4)"
      ]
     },
     "execution_count": 3,
     "metadata": {},
     "output_type": "execute_result"
    }
   ],
   "source": [
    "all_videos_df.shape"
   ]
  },
  {
   "cell_type": "markdown",
   "metadata": {},
   "source": [
    "I shuffled the comments"
   ]
  },
  {
   "cell_type": "code",
   "execution_count": 4,
   "metadata": {},
   "outputs": [
    {
     "data": {
      "text/html": [
       "<div>\n",
       "<style scoped>\n",
       "    .dataframe tbody tr th:only-of-type {\n",
       "        vertical-align: middle;\n",
       "    }\n",
       "\n",
       "    .dataframe tbody tr th {\n",
       "        vertical-align: top;\n",
       "    }\n",
       "\n",
       "    .dataframe thead th {\n",
       "        text-align: right;\n",
       "    }\n",
       "</style>\n",
       "<table border=\"1\" class=\"dataframe\">\n",
       "  <thead>\n",
       "    <tr style=\"text-align: right;\">\n",
       "      <th></th>\n",
       "      <th>text</th>\n",
       "      <th>likes</th>\n",
       "      <th>replies</th>\n",
       "      <th>date</th>\n",
       "    </tr>\n",
       "  </thead>\n",
       "  <tbody>\n",
       "    <tr>\n",
       "      <th>0</th>\n",
       "      <td>AJ admin is deleting messages that are critica...</td>\n",
       "      <td>0</td>\n",
       "      <td>1</td>\n",
       "      <td>2024-10-24T17:34:07Z</td>\n",
       "    </tr>\n",
       "    <tr>\n",
       "      <th>1</th>\n",
       "      <td>Bring down the caliphate. Rid the world of bar...</td>\n",
       "      <td>0</td>\n",
       "      <td>0</td>\n",
       "      <td>2023-10-09T18:34:10Z</td>\n",
       "    </tr>\n",
       "    <tr>\n",
       "      <th>2</th>\n",
       "      <td>I see some hero \\nSome hero of palestainian wo...</td>\n",
       "      <td>2</td>\n",
       "      <td>0</td>\n",
       "      <td>2024-10-03T12:33:13Z</td>\n",
       "    </tr>\n",
       "    <tr>\n",
       "      <th>3</th>\n",
       "      <td>I am sorry to say this conflict probably will ...</td>\n",
       "      <td>2</td>\n",
       "      <td>0</td>\n",
       "      <td>2024-08-18T23:47:42Z</td>\n",
       "    </tr>\n",
       "    <tr>\n",
       "      <th>4</th>\n",
       "      <td>Palestina livre.</td>\n",
       "      <td>0</td>\n",
       "      <td>0</td>\n",
       "      <td>2024-04-24T16:47:50Z</td>\n",
       "    </tr>\n",
       "    <tr>\n",
       "      <th>...</th>\n",
       "      <td>...</td>\n",
       "      <td>...</td>\n",
       "      <td>...</td>\n",
       "      <td>...</td>\n",
       "    </tr>\n",
       "    <tr>\n",
       "      <th>24474</th>\n",
       "      <td>Bayangkan berapa mayat di reruntuhan bangunan ...</td>\n",
       "      <td>0</td>\n",
       "      <td>0</td>\n",
       "      <td>2023-12-31T00:15:53Z</td>\n",
       "    </tr>\n",
       "    <tr>\n",
       "      <th>24475</th>\n",
       "      <td>The IDF should have been able to prevent that ...</td>\n",
       "      <td>2</td>\n",
       "      <td>0</td>\n",
       "      <td>2024-03-20T17:15:47Z</td>\n",
       "    </tr>\n",
       "    <tr>\n",
       "      <th>24476</th>\n",
       "      <td>They are still repeating the mass rape and bab...</td>\n",
       "      <td>1</td>\n",
       "      <td>0</td>\n",
       "      <td>2024-09-05T10:12:38Z</td>\n",
       "    </tr>\n",
       "    <tr>\n",
       "      <th>24477</th>\n",
       "      <td>Absolutely heartbreaking.</td>\n",
       "      <td>0</td>\n",
       "      <td>0</td>\n",
       "      <td>2024-10-05T03:06:12Z</td>\n",
       "    </tr>\n",
       "    <tr>\n",
       "      <th>24478</th>\n",
       "      <td>Can you imagine the number of people in those ...</td>\n",
       "      <td>0</td>\n",
       "      <td>0</td>\n",
       "      <td>2023-10-09T13:59:27Z</td>\n",
       "    </tr>\n",
       "  </tbody>\n",
       "</table>\n",
       "<p>24479 rows × 4 columns</p>\n",
       "</div>"
      ],
      "text/plain": [
       "                                                    text  likes  replies  \\\n",
       "0      AJ admin is deleting messages that are critica...      0        1   \n",
       "1      Bring down the caliphate. Rid the world of bar...      0        0   \n",
       "2      I see some hero \\nSome hero of palestainian wo...      2        0   \n",
       "3      I am sorry to say this conflict probably will ...      2        0   \n",
       "4                                       Palestina livre.      0        0   \n",
       "...                                                  ...    ...      ...   \n",
       "24474  Bayangkan berapa mayat di reruntuhan bangunan ...      0        0   \n",
       "24475  The IDF should have been able to prevent that ...      2        0   \n",
       "24476  They are still repeating the mass rape and bab...      1        0   \n",
       "24477                          Absolutely heartbreaking.      0        0   \n",
       "24478  Can you imagine the number of people in those ...      0        0   \n",
       "\n",
       "                       date  \n",
       "0      2024-10-24T17:34:07Z  \n",
       "1      2023-10-09T18:34:10Z  \n",
       "2      2024-10-03T12:33:13Z  \n",
       "3      2024-08-18T23:47:42Z  \n",
       "4      2024-04-24T16:47:50Z  \n",
       "...                     ...  \n",
       "24474  2023-12-31T00:15:53Z  \n",
       "24475  2024-03-20T17:15:47Z  \n",
       "24476  2024-09-05T10:12:38Z  \n",
       "24477  2024-10-05T03:06:12Z  \n",
       "24478  2023-10-09T13:59:27Z  \n",
       "\n",
       "[24479 rows x 4 columns]"
      ]
     },
     "execution_count": 4,
     "metadata": {},
     "output_type": "execute_result"
    }
   ],
   "source": [
    "# Shuffle the DataFrame rows\n",
    "shuffled_df = all_videos_df.sample(frac=1, random_state=42).reset_index(drop=True)\n",
    "\n",
    "# Display the shuffled DataFrame\n",
    "shuffled_df\n"
   ]
  },
  {
   "cell_type": "markdown",
   "metadata": {},
   "source": [
    "I used the `langdetect` library to find and select only comments written in English"
   ]
  },
  {
   "cell_type": "code",
   "execution_count": 5,
   "metadata": {},
   "outputs": [
    {
     "data": {
      "text/html": [
       "<div>\n",
       "<style scoped>\n",
       "    .dataframe tbody tr th:only-of-type {\n",
       "        vertical-align: middle;\n",
       "    }\n",
       "\n",
       "    .dataframe tbody tr th {\n",
       "        vertical-align: top;\n",
       "    }\n",
       "\n",
       "    .dataframe thead th {\n",
       "        text-align: right;\n",
       "    }\n",
       "</style>\n",
       "<table border=\"1\" class=\"dataframe\">\n",
       "  <thead>\n",
       "    <tr style=\"text-align: right;\">\n",
       "      <th></th>\n",
       "      <th>text</th>\n",
       "      <th>likes</th>\n",
       "      <th>replies</th>\n",
       "      <th>date</th>\n",
       "    </tr>\n",
       "  </thead>\n",
       "  <tbody>\n",
       "    <tr>\n",
       "      <th>0</th>\n",
       "      <td>AJ admin is deleting messages that are critica...</td>\n",
       "      <td>0</td>\n",
       "      <td>1</td>\n",
       "      <td>2024-10-24T17:34:07Z</td>\n",
       "    </tr>\n",
       "    <tr>\n",
       "      <th>1</th>\n",
       "      <td>Bring down the caliphate. Rid the world of bar...</td>\n",
       "      <td>0</td>\n",
       "      <td>0</td>\n",
       "      <td>2023-10-09T18:34:10Z</td>\n",
       "    </tr>\n",
       "    <tr>\n",
       "      <th>2</th>\n",
       "      <td>I see some hero \\nSome hero of palestainian wo...</td>\n",
       "      <td>2</td>\n",
       "      <td>0</td>\n",
       "      <td>2024-10-03T12:33:13Z</td>\n",
       "    </tr>\n",
       "    <tr>\n",
       "      <th>3</th>\n",
       "      <td>I am sorry to say this conflict probably will ...</td>\n",
       "      <td>2</td>\n",
       "      <td>0</td>\n",
       "      <td>2024-08-18T23:47:42Z</td>\n",
       "    </tr>\n",
       "    <tr>\n",
       "      <th>4</th>\n",
       "      <td>How did Jews go from the likes of Viktor Frank...</td>\n",
       "      <td>1</td>\n",
       "      <td>0</td>\n",
       "      <td>2024-10-04T13:19:31Z</td>\n",
       "    </tr>\n",
       "    <tr>\n",
       "      <th>...</th>\n",
       "      <td>...</td>\n",
       "      <td>...</td>\n",
       "      <td>...</td>\n",
       "      <td>...</td>\n",
       "    </tr>\n",
       "    <tr>\n",
       "      <th>19116</th>\n",
       "      <td>Al Jazeera is a war crime, hybrid war of misin...</td>\n",
       "      <td>0</td>\n",
       "      <td>0</td>\n",
       "      <td>2024-10-20T22:06:20Z</td>\n",
       "    </tr>\n",
       "    <tr>\n",
       "      <th>19117</th>\n",
       "      <td>The IDF should have been able to prevent that ...</td>\n",
       "      <td>2</td>\n",
       "      <td>0</td>\n",
       "      <td>2024-03-20T17:15:47Z</td>\n",
       "    </tr>\n",
       "    <tr>\n",
       "      <th>19118</th>\n",
       "      <td>They are still repeating the mass rape and bab...</td>\n",
       "      <td>1</td>\n",
       "      <td>0</td>\n",
       "      <td>2024-09-05T10:12:38Z</td>\n",
       "    </tr>\n",
       "    <tr>\n",
       "      <th>19119</th>\n",
       "      <td>Absolutely heartbreaking.</td>\n",
       "      <td>0</td>\n",
       "      <td>0</td>\n",
       "      <td>2024-10-05T03:06:12Z</td>\n",
       "    </tr>\n",
       "    <tr>\n",
       "      <th>19120</th>\n",
       "      <td>Can you imagine the number of people in those ...</td>\n",
       "      <td>0</td>\n",
       "      <td>0</td>\n",
       "      <td>2023-10-09T13:59:27Z</td>\n",
       "    </tr>\n",
       "  </tbody>\n",
       "</table>\n",
       "<p>19121 rows × 4 columns</p>\n",
       "</div>"
      ],
      "text/plain": [
       "                                                    text  likes  replies  \\\n",
       "0      AJ admin is deleting messages that are critica...      0        1   \n",
       "1      Bring down the caliphate. Rid the world of bar...      0        0   \n",
       "2      I see some hero \\nSome hero of palestainian wo...      2        0   \n",
       "3      I am sorry to say this conflict probably will ...      2        0   \n",
       "4      How did Jews go from the likes of Viktor Frank...      1        0   \n",
       "...                                                  ...    ...      ...   \n",
       "19116  Al Jazeera is a war crime, hybrid war of misin...      0        0   \n",
       "19117  The IDF should have been able to prevent that ...      2        0   \n",
       "19118  They are still repeating the mass rape and bab...      1        0   \n",
       "19119                          Absolutely heartbreaking.      0        0   \n",
       "19120  Can you imagine the number of people in those ...      0        0   \n",
       "\n",
       "                       date  \n",
       "0      2024-10-24T17:34:07Z  \n",
       "1      2023-10-09T18:34:10Z  \n",
       "2      2024-10-03T12:33:13Z  \n",
       "3      2024-08-18T23:47:42Z  \n",
       "4      2024-10-04T13:19:31Z  \n",
       "...                     ...  \n",
       "19116  2024-10-20T22:06:20Z  \n",
       "19117  2024-03-20T17:15:47Z  \n",
       "19118  2024-09-05T10:12:38Z  \n",
       "19119  2024-10-05T03:06:12Z  \n",
       "19120  2023-10-09T13:59:27Z  \n",
       "\n",
       "[19121 rows x 4 columns]"
      ]
     },
     "execution_count": 5,
     "metadata": {},
     "output_type": "execute_result"
    }
   ],
   "source": [
    "from langdetect import detect, DetectorFactory\n",
    "\n",
    "# Ensure language detection is deterministic\n",
    "DetectorFactory.seed = 0\n",
    "\n",
    "\n",
    "def is_english(text):\n",
    "    try:\n",
    "        return detect(text) == \"en\"\n",
    "    except:\n",
    "        return False  # Return False if detection fails\n",
    "\n",
    "\n",
    "# Apply filtering\n",
    "df_filtered = shuffled_df[shuffled_df[\"text\"].apply(is_english)].reset_index(drop=True)\n",
    "\n",
    "# Display the filtered DataFrame\n",
    "df_filtered"
   ]
  },
  {
   "cell_type": "markdown",
   "metadata": {},
   "source": [
    "I added the sentiment column filled with 0 values"
   ]
  },
  {
   "cell_type": "code",
   "execution_count": null,
   "metadata": {},
   "outputs": [],
   "source": [
    "df_filtered[\"sentiment\"] = 0"
   ]
  },
  {
   "cell_type": "code",
   "execution_count": 7,
   "metadata": {},
   "outputs": [],
   "source": [
    "# df_filtered.to_csv(\"df_merged.csv\", index=False)"
   ]
  },
  {
   "cell_type": "markdown",
   "metadata": {},
   "source": [
    "This dataset, df_merged.csv, contains comments that I manually labeled with their expressed sentiments. This process helped me construct the actual fine-tuning dataset used for training the BERT model."
   ]
  },
  {
   "cell_type": "markdown",
   "metadata": {},
   "source": [
    "# INFERENCE DATASET "
   ]
  },
  {
   "cell_type": "markdown",
   "metadata": {},
   "source": [
    "Creation of the datasets that i'll use to perform the sentiment analysis and topic modelling"
   ]
  },
  {
   "cell_type": "markdown",
   "metadata": {},
   "source": [
    "1. October 7 aljazera investigation documentary (20/03/2024) (9000 comments) "
   ]
  },
  {
   "cell_type": "code",
   "execution_count": 6,
   "metadata": {},
   "outputs": [],
   "source": [
    "id_aljazera_2024 = \"_0atzea-mPY\"\n",
    "aljazera_2024 = pd.DataFrame(get_video_comments(id_aljazera_2024))"
   ]
  },
  {
   "cell_type": "code",
   "execution_count": 18,
   "metadata": {},
   "outputs": [],
   "source": [
    "aljazera_2024 = aljazera_2024[aljazera_2024[\"text\"].apply(is_english)].reset_index(\n",
    "    drop=True\n",
    ")\n",
    "\n",
    "# create sentiment column\n",
    "aljazera_2024[\"sentiment\"] = 0\n",
    "\n",
    "\n",
    "# export csv\n",
    "aljazera_2024.to_csv(\"aljazera_2024.csv\", index=False)"
   ]
  },
  {
   "cell_type": "markdown",
   "metadata": {},
   "source": [
    "2. Lastet live update over 700 people killed by israeli forces (10-10-2023) (5000 comments)"
   ]
  },
  {
   "cell_type": "code",
   "execution_count": 8,
   "metadata": {},
   "outputs": [],
   "source": [
    "id_aljazera_2023 = \"XZHXUvBcyhE\"\n",
    "aljazera_2023 = pd.DataFrame(get_video_comments(id_aljazera_2023))"
   ]
  },
  {
   "cell_type": "code",
   "execution_count": 19,
   "metadata": {},
   "outputs": [],
   "source": [
    "aljazera_2023 = aljazera_2023[aljazera_2023[\"text\"].apply(is_english)].reset_index(\n",
    "    drop=True\n",
    ")\n",
    "\n",
    "# create sentiment column\n",
    "aljazera_2023[\"sentiment\"] = 0\n",
    "\n",
    "\n",
    "# export csv\n",
    "aljazera_2023.to_csv(\"aljazera_2023.csv\", index=False)"
   ]
  },
  {
   "cell_type": "markdown",
   "metadata": {},
   "source": [
    "3. CNN: People in gaza feel abandoned 40k palestinian killed (15/8/2024) (4000 comments)"
   ]
  },
  {
   "cell_type": "code",
   "execution_count": 10,
   "metadata": {},
   "outputs": [],
   "source": [
    "id_cnn_2024 = \"Da_Ll7P5kYU\"\n",
    "cnn_2024 = pd.DataFrame(get_video_comments(id_cnn_2024))"
   ]
  },
  {
   "cell_type": "code",
   "execution_count": 20,
   "metadata": {},
   "outputs": [],
   "source": [
    "cnn_2024 = cnn_2024[cnn_2024[\"text\"].apply(is_english)].reset_index(drop=True)\n",
    "\n",
    "# create sentiment column\n",
    "cnn_2024[\"sentiment\"] = 0\n",
    "\n",
    "# export csv\n",
    "cnn_2024.to_csv(\"cnn_2024.csv\", index=False)"
   ]
  },
  {
   "cell_type": "markdown",
   "metadata": {},
   "source": [
    "4. CNN suprise attack on israel (9/10/2023) (3000 comments)"
   ]
  },
  {
   "cell_type": "code",
   "execution_count": 12,
   "metadata": {},
   "outputs": [],
   "source": [
    "id_cnn_2023 = \"PuTn9g-KfR0\"\n",
    "cnn_2023 = pd.DataFrame(get_video_comments(id_cnn_2023))"
   ]
  },
  {
   "cell_type": "code",
   "execution_count": 21,
   "metadata": {},
   "outputs": [],
   "source": [
    "cnn_2023 = cnn_2023[cnn_2023[\"text\"].apply(is_english)].reset_index(drop=True)\n",
    "\n",
    "# create sentiment column\n",
    "cnn_2023[\"sentiment\"] = 0\n",
    "\n",
    "# export csv\n",
    "cnn_2023.to_csv(\"cnn_2023.csv\", index=False)"
   ]
  },
  {
   "cell_type": "markdown",
   "metadata": {},
   "source": [
    "5. gaza Before after 7 october (6-10-2024) (1000 comments)"
   ]
  },
  {
   "cell_type": "code",
   "execution_count": 14,
   "metadata": {},
   "outputs": [],
   "source": [
    "id_sky_2024 = \"eSKq2IjmmJc\"\n",
    "sky_2024 = pd.DataFrame(get_video_comments(id_sky_2024))"
   ]
  },
  {
   "cell_type": "code",
   "execution_count": 22,
   "metadata": {},
   "outputs": [],
   "source": [
    "sky_2024 = sky_2024[sky_2024[\"text\"].apply(is_english)].reset_index(drop=True)\n",
    "\n",
    "# create sentiment column\n",
    "sky_2024[\"sentiment\"] = 0\n",
    "\n",
    "# export csv\n",
    "sky_2024.to_csv(\"sky_2024.csv\", index=False)"
   ]
  },
  {
   "cell_type": "markdown",
   "metadata": {},
   "source": [
    "6. Bombs rain down on gaza (10-10-2023) (20000 coments) "
   ]
  },
  {
   "cell_type": "code",
   "execution_count": 16,
   "metadata": {},
   "outputs": [],
   "source": [
    "id_sky_2023 = \"kBf3jm8OKyo\"\n",
    "sky_2023 = pd.DataFrame(get_video_comments(id_sky_2023))"
   ]
  },
  {
   "cell_type": "code",
   "execution_count": 23,
   "metadata": {},
   "outputs": [],
   "source": [
    "sky_2023 = sky_2023[sky_2023[\"text\"].apply(is_english)].reset_index(drop=True)\n",
    "\n",
    "# create sentiment column\n",
    "sky_2023[\"sentiment\"] = 0\n",
    "\n",
    "# export csv\n",
    "sky_2023.to_csv(\"sky_2023.csv\", index=False)"
   ]
  }
 ],
 "metadata": {
  "kernelspec": {
   "display_name": "venv",
   "language": "python",
   "name": "python3"
  },
  "language_info": {
   "codemirror_mode": {
    "name": "ipython",
    "version": 3
   },
   "file_extension": ".py",
   "mimetype": "text/x-python",
   "name": "python",
   "nbconvert_exporter": "python",
   "pygments_lexer": "ipython3",
   "version": "3.11.4"
  }
 },
 "nbformat": 4,
 "nbformat_minor": 2
}
